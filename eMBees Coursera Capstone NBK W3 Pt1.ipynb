{
    "nbformat_minor": 1, 
    "cells": [
        {
            "execution_count": null, 
            "cell_type": "code", 
            "metadata": {}, 
            "outputs": [], 
            "source": "# The code was removed by Watson Studio for sharing."
        }, 
        {
            "source": "##  Segmenting and Clustering Neighborhoods in Toronto Whose Postal Code Begins With the Letter M - First Section", 
            "cell_type": "markdown", 
            "metadata": {
                "collapsed": true
            }
        }, 
        {
            "source": "### 1.1 Creating Notebook with the Basic Dependencies", 
            "cell_type": "markdown", 
            "metadata": {}
        }, 
        {
            "execution_count": 1, 
            "cell_type": "code", 
            "metadata": {}, 
            "outputs": [
                {
                    "output_type": "stream", 
                    "name": "stdout", 
                    "text": "Libraries imported\n"
                }
            ], 
            "source": "import numpy as np #library of handle data in a vectoized manner\nimport pandas as pd # library for data analysis\nimport requests # library for web scraping\n\nprint ('Libraries imported')"
        }, 
        {
            "source": "### 1.2 Scraping Web Page Process Using BeautifulSoup", 
            "cell_type": "markdown", 
            "metadata": {}
        }, 
        {
            "execution_count": 2, 
            "cell_type": "code", 
            "metadata": {}, 
            "outputs": [
                {
                    "output_type": "stream", 
                    "name": "stdout", 
                    "text": "BeautifulSoup and csv imported.\n"
                }
            ], 
            "source": "# installing Beautiful Soup for scraping data\n# https://pypi.python.org/pypi/beautifulsoup4\n\n# or download file\n# http://beautiful-soup-4\n# and unzip it in the same directory as this file\n\nimport requests\nfrom urllib.request import urlopen\nfrom bs4 import BeautifulSoup\nimport ssl\nimport csv\nimport json\nimport xml\n\n\nprint('BeautifulSoup and csv imported.')\n"
        }, 
        {
            "execution_count": 3, 
            "cell_type": "code", 
            "metadata": {}, 
            "outputs": [
                {
                    "output_type": "stream", 
                    "name": "stdout", 
                    "text": "SSL Certificate Errors Ignored\n"
                }
            ], 
            "source": "# Ignore SSL Certificate Errors\nctx = ssl.create_default_context()\nctx.check_hostname = False\nctx.verify_mode = ssl.CERT_NONE\n\nprint('SSL Certificate Errors Ignored')"
        }, 
        {
            "execution_count": 4, 
            "cell_type": "code", 
            "metadata": {}, 
            "outputs": [
                {
                    "output_type": "stream", 
                    "name": "stdout", 
                    "text": "Soup Ready\n"
                }
            ], 
            "source": "source = requests.get('https://en.wikipedia.org/wiki/List_of_postal_codes_of_Canada:_M').text\n#print(source)\n\nsoup = BeautifulSoup(source, 'lxml')\n#print(soup)\n\n#print(soup.prettify())\nprint('Soup Ready')"
        }, 
        {
            "execution_count": 5, 
            "cell_type": "code", 
            "metadata": {}, 
            "outputs": [], 
            "source": "table = soup.find('table',{'class':'wikitable sortable'})\n#table\n#print(table)"
        }, 
        {
            "execution_count": 6, 
            "cell_type": "code", 
            "metadata": {}, 
            "outputs": [], 
            "source": "#from time import sleep\n#sleep(3)\n\ntable_rows = table.find_all('tr')\n#table rows"
        }, 
        {
            "execution_count": 7, 
            "cell_type": "code", 
            "metadata": {}, 
            "outputs": [
                {
                    "output_type": "stream", 
                    "name": "stdout", 
                    "text": "   PostalCode           Borough     Neighbourhood\n1         M1A      Not assigned      Not assigned\n2         M2A      Not assigned      Not assigned\n3         M3A        North York         Parkwoods\n4         M4A        North York  Victoria Village\n5         M5A  Downtown Toronto      Harbourfront\n6         M5A  Downtown Toronto       Regent Park\n7         M6A        North York  Lawrence Heights\n8         M6A        North York    Lawrence Manor\n9         M7A      Queen's Park      Not assigned\n10        M8A      Not assigned      Not assigned\n****\n    PostalCode       Borough             Neighbourhood\n279        M4Z  Not assigned              Not assigned\n280        M5Z  Not assigned              Not assigned\n281        M6Z  Not assigned              Not assigned\n282        M7Z  Not assigned              Not assigned\n283        M8Z     Etobicoke  Kingsway Park South West\n284        M8Z     Etobicoke                 Mimico NW\n285        M8Z     Etobicoke        The Queensway West\n286        M8Z     Etobicoke     Royal York South West\n287        M8Z     Etobicoke            South of Bloor\n288        M9Z  Not assigned              Not assigned\n"
                }
            ], 
            "source": "data=[]\n\nfor row in table_rows:\n    data.append([t.text.strip() for t in row.find_all ('td')])\n    \ndf = pd.DataFrame(data, columns=['PostalCode', 'Borough', 'Neighbourhood'])    \ndf = df[~df['PostalCode'].isnull()] #to weed out bad rows\n\nprint(df.head(10))\nprint('****')\nprint(df.tail(10))"
        }, 
        {
            "source": "### 1.3.1 Process of Transforming Data into Pandas Dataframe", 
            "cell_type": "markdown", 
            "metadata": {}
        }, 
        {
            "execution_count": 8, 
            "cell_type": "code", 
            "metadata": {}, 
            "outputs": [
                {
                    "output_type": "stream", 
                    "name": "stdout", 
                    "text": "<class 'pandas.core.frame.DataFrame'>\nInt64Index: 288 entries, 1 to 288\nData columns (total 3 columns):\nPostalCode       288 non-null object\nBorough          288 non-null object\nNeighbourhood    288 non-null object\ndtypes: object(3)\nmemory usage: 9.0+ KB\n"
                }
            ], 
            "source": "df.info()"
        }, 
        {
            "execution_count": 9, 
            "cell_type": "code", 
            "metadata": {}, 
            "outputs": [
                {
                    "execution_count": 9, 
                    "metadata": {}, 
                    "data": {
                        "text/plain": "(288, 3)"
                    }, 
                    "output_type": "execute_result"
                }
            ], 
            "source": "df.shape"
        }, 
        {
            "source": "### 1.3.2 Dataframe With Unprocessed Data Established", 
            "cell_type": "markdown", 
            "metadata": {}
        }, 
        {
            "execution_count": 10, 
            "cell_type": "code", 
            "metadata": {}, 
            "outputs": [
                {
                    "execution_count": 10, 
                    "metadata": {}, 
                    "data": {
                        "text/html": "<div>\n<style scoped>\n    .dataframe tbody tr th:only-of-type {\n        vertical-align: middle;\n    }\n\n    .dataframe tbody tr th {\n        vertical-align: top;\n    }\n\n    .dataframe thead th {\n        text-align: right;\n    }\n</style>\n<table border=\"1\" class=\"dataframe\">\n  <thead>\n    <tr style=\"text-align: right;\">\n      <th></th>\n      <th>PostalCode</th>\n      <th>Borough</th>\n      <th>Neighbourhood</th>\n    </tr>\n  </thead>\n  <tbody>\n    <tr>\n      <th>1</th>\n      <td>M1A</td>\n      <td>Not assigned</td>\n      <td>Not assigned</td>\n    </tr>\n    <tr>\n      <th>2</th>\n      <td>M2A</td>\n      <td>Not assigned</td>\n      <td>Not assigned</td>\n    </tr>\n    <tr>\n      <th>3</th>\n      <td>M3A</td>\n      <td>North York</td>\n      <td>Parkwoods</td>\n    </tr>\n    <tr>\n      <th>4</th>\n      <td>M4A</td>\n      <td>North York</td>\n      <td>Victoria Village</td>\n    </tr>\n    <tr>\n      <th>5</th>\n      <td>M5A</td>\n      <td>Downtown Toronto</td>\n      <td>Harbourfront</td>\n    </tr>\n    <tr>\n      <th>6</th>\n      <td>M5A</td>\n      <td>Downtown Toronto</td>\n      <td>Regent Park</td>\n    </tr>\n    <tr>\n      <th>7</th>\n      <td>M6A</td>\n      <td>North York</td>\n      <td>Lawrence Heights</td>\n    </tr>\n    <tr>\n      <th>8</th>\n      <td>M6A</td>\n      <td>North York</td>\n      <td>Lawrence Manor</td>\n    </tr>\n    <tr>\n      <th>9</th>\n      <td>M7A</td>\n      <td>Queen's Park</td>\n      <td>Not assigned</td>\n    </tr>\n    <tr>\n      <th>10</th>\n      <td>M8A</td>\n      <td>Not assigned</td>\n      <td>Not assigned</td>\n    </tr>\n    <tr>\n      <th>11</th>\n      <td>M9A</td>\n      <td>Etobicoke</td>\n      <td>Islington Avenue</td>\n    </tr>\n    <tr>\n      <th>12</th>\n      <td>M1B</td>\n      <td>Scarborough</td>\n      <td>Rouge</td>\n    </tr>\n    <tr>\n      <th>13</th>\n      <td>M1B</td>\n      <td>Scarborough</td>\n      <td>Malvern</td>\n    </tr>\n    <tr>\n      <th>14</th>\n      <td>M2B</td>\n      <td>Not assigned</td>\n      <td>Not assigned</td>\n    </tr>\n    <tr>\n      <th>15</th>\n      <td>M3B</td>\n      <td>North York</td>\n      <td>Don Mills North</td>\n    </tr>\n  </tbody>\n</table>\n</div>", 
                        "text/plain": "   PostalCode           Borough     Neighbourhood\n1         M1A      Not assigned      Not assigned\n2         M2A      Not assigned      Not assigned\n3         M3A        North York         Parkwoods\n4         M4A        North York  Victoria Village\n5         M5A  Downtown Toronto      Harbourfront\n6         M5A  Downtown Toronto       Regent Park\n7         M6A        North York  Lawrence Heights\n8         M6A        North York    Lawrence Manor\n9         M7A      Queen's Park      Not assigned\n10        M8A      Not assigned      Not assigned\n11        M9A         Etobicoke  Islington Avenue\n12        M1B       Scarborough             Rouge\n13        M1B       Scarborough           Malvern\n14        M2B      Not assigned      Not assigned\n15        M3B        North York   Don Mills North"
                    }, 
                    "output_type": "execute_result"
                }
            ], 
            "source": "import pandas\nimport requests\nfrom bs4 import BeautifulSoup\n\nwebsite_text = requests.get('https://en.wikipedia.org/wiki/List_of_postal_codes_of_Canada:_M').text\nsoup = BeautifulSoup(website_text, 'lxml')\n\ntable = soup.find('table',{'class':'wikitable sortable'})\ntable_rows = table.find_all('tr')\n\ndata=[]\nfor row in table_rows:\n    data.append([t.text.strip() for t in row.find_all('td')])\n    \ndf = pandas.DataFrame(data, columns=['PostalCode', 'Borough', 'Neighbourhood']) \ndf = df[~df['PostalCode'].isnull()] #to filter out bad rows\ndf.head(15)\n\n"
        }, 
        {
            "source": "### 1.3.3 Drop Rows Where Postal Code Does Not Have as Assigned Burough", 
            "cell_type": "markdown", 
            "metadata": {}
        }, 
        {
            "execution_count": 11, 
            "cell_type": "code", 
            "metadata": {}, 
            "outputs": [], 
            "source": "df.drop(df[df['Borough']==\"Not assigned\"].index, axis=0, inplace=True)"
        }, 
        {
            "source": "### 1.3.4 Reindex Dataframe", 
            "cell_type": "markdown", 
            "metadata": {}
        }, 
        {
            "execution_count": 12, 
            "cell_type": "code", 
            "metadata": {}, 
            "outputs": [
                {
                    "execution_count": 12, 
                    "metadata": {}, 
                    "data": {
                        "text/html": "<div>\n<style scoped>\n    .dataframe tbody tr th:only-of-type {\n        vertical-align: middle;\n    }\n\n    .dataframe tbody tr th {\n        vertical-align: top;\n    }\n\n    .dataframe thead th {\n        text-align: right;\n    }\n</style>\n<table border=\"1\" class=\"dataframe\">\n  <thead>\n    <tr style=\"text-align: right;\">\n      <th></th>\n      <th>index</th>\n      <th>PostalCode</th>\n      <th>Borough</th>\n      <th>Neighbourhood</th>\n    </tr>\n  </thead>\n  <tbody>\n    <tr>\n      <th>0</th>\n      <td>3</td>\n      <td>M3A</td>\n      <td>North York</td>\n      <td>Parkwoods</td>\n    </tr>\n    <tr>\n      <th>1</th>\n      <td>4</td>\n      <td>M4A</td>\n      <td>North York</td>\n      <td>Victoria Village</td>\n    </tr>\n    <tr>\n      <th>2</th>\n      <td>5</td>\n      <td>M5A</td>\n      <td>Downtown Toronto</td>\n      <td>Harbourfront</td>\n    </tr>\n    <tr>\n      <th>3</th>\n      <td>6</td>\n      <td>M5A</td>\n      <td>Downtown Toronto</td>\n      <td>Regent Park</td>\n    </tr>\n    <tr>\n      <th>4</th>\n      <td>7</td>\n      <td>M6A</td>\n      <td>North York</td>\n      <td>Lawrence Heights</td>\n    </tr>\n    <tr>\n      <th>5</th>\n      <td>8</td>\n      <td>M6A</td>\n      <td>North York</td>\n      <td>Lawrence Manor</td>\n    </tr>\n    <tr>\n      <th>6</th>\n      <td>9</td>\n      <td>M7A</td>\n      <td>Queen's Park</td>\n      <td>Not assigned</td>\n    </tr>\n    <tr>\n      <th>7</th>\n      <td>11</td>\n      <td>M9A</td>\n      <td>Etobicoke</td>\n      <td>Islington Avenue</td>\n    </tr>\n    <tr>\n      <th>8</th>\n      <td>12</td>\n      <td>M1B</td>\n      <td>Scarborough</td>\n      <td>Rouge</td>\n    </tr>\n    <tr>\n      <th>9</th>\n      <td>13</td>\n      <td>M1B</td>\n      <td>Scarborough</td>\n      <td>Malvern</td>\n    </tr>\n  </tbody>\n</table>\n</div>", 
                        "text/plain": "   index PostalCode           Borough     Neighbourhood\n0      3        M3A        North York         Parkwoods\n1      4        M4A        North York  Victoria Village\n2      5        M5A  Downtown Toronto      Harbourfront\n3      6        M5A  Downtown Toronto       Regent Park\n4      7        M6A        North York  Lawrence Heights\n5      8        M6A        North York    Lawrence Manor\n6      9        M7A      Queen's Park      Not assigned\n7     11        M9A         Etobicoke  Islington Avenue\n8     12        M1B       Scarborough             Rouge\n9     13        M1B       Scarborough           Malvern"
                    }, 
                    "output_type": "execute_result"
                }
            ], 
            "source": "df1 = df.reset_index()\ndf1.head(10)"
        }, 
        {
            "execution_count": 13, 
            "cell_type": "code", 
            "metadata": {}, 
            "outputs": [
                {
                    "output_type": "stream", 
                    "name": "stdout", 
                    "text": "<class 'pandas.core.frame.DataFrame'>\nRangeIndex: 211 entries, 0 to 210\nData columns (total 4 columns):\nindex            211 non-null int64\nPostalCode       211 non-null object\nBorough          211 non-null object\nNeighbourhood    211 non-null object\ndtypes: int64(1), object(3)\nmemory usage: 6.7+ KB\n"
                }
            ], 
            "source": "df1.info()"
        }, 
        {
            "execution_count": 14, 
            "cell_type": "code", 
            "metadata": {}, 
            "outputs": [
                {
                    "execution_count": 14, 
                    "metadata": {}, 
                    "data": {
                        "text/plain": "(211, 4)"
                    }, 
                    "output_type": "execute_result"
                }
            ], 
            "source": "df1.shape"
        }, 
        {
            "source": "### 1.3.5 Combine multi neighborhood postal codes", 
            "cell_type": "markdown", 
            "metadata": {}
        }, 
        {
            "execution_count": 25, 
            "cell_type": "code", 
            "metadata": {}, 
            "outputs": [
                {
                    "execution_count": 25, 
                    "metadata": {}, 
                    "data": {
                        "text/html": "<div>\n<style scoped>\n    .dataframe tbody tr th:only-of-type {\n        vertical-align: middle;\n    }\n\n    .dataframe tbody tr th {\n        vertical-align: top;\n    }\n\n    .dataframe thead th {\n        text-align: right;\n    }\n</style>\n<table border=\"1\" class=\"dataframe\">\n  <thead>\n    <tr style=\"text-align: right;\">\n      <th></th>\n      <th>Borough</th>\n      <th>Neighbourhood</th>\n    </tr>\n    <tr>\n      <th>PostalCode</th>\n      <th></th>\n      <th></th>\n    </tr>\n  </thead>\n  <tbody>\n    <tr>\n      <th>M1B</th>\n      <td>Scarborough,Scarborough</td>\n      <td>Rouge,Malvern</td>\n    </tr>\n    <tr>\n      <th>M1C</th>\n      <td>Scarborough,Scarborough,Scarborough</td>\n      <td>Highland Creek,Rouge Hill,Port Union</td>\n    </tr>\n    <tr>\n      <th>M1E</th>\n      <td>Scarborough,Scarborough,Scarborough</td>\n      <td>Guildwood,Morningside,West Hill</td>\n    </tr>\n    <tr>\n      <th>M1G</th>\n      <td>Scarborough</td>\n      <td>Woburn</td>\n    </tr>\n    <tr>\n      <th>M1H</th>\n      <td>Scarborough</td>\n      <td>Cedarbrae</td>\n    </tr>\n    <tr>\n      <th>M1J</th>\n      <td>Scarborough</td>\n      <td>Scarborough Village</td>\n    </tr>\n    <tr>\n      <th>M1K</th>\n      <td>Scarborough,Scarborough,Scarborough</td>\n      <td>East Birchmount Park,Ionview,Kennedy Park</td>\n    </tr>\n    <tr>\n      <th>M1L</th>\n      <td>Scarborough,Scarborough,Scarborough</td>\n      <td>Clairlea,Golden Mile,Oakridge</td>\n    </tr>\n    <tr>\n      <th>M1M</th>\n      <td>Scarborough,Scarborough,Scarborough</td>\n      <td>Cliffcrest,Cliffside,Scarborough Village West</td>\n    </tr>\n    <tr>\n      <th>M1N</th>\n      <td>Scarborough,Scarborough</td>\n      <td>Birch Cliff,Cliffside West</td>\n    </tr>\n  </tbody>\n</table>\n</div>", 
                        "text/plain": "                                        Borough  \\\nPostalCode                                        \nM1B                     Scarborough,Scarborough   \nM1C         Scarborough,Scarborough,Scarborough   \nM1E         Scarborough,Scarborough,Scarborough   \nM1G                                 Scarborough   \nM1H                                 Scarborough   \nM1J                                 Scarborough   \nM1K         Scarborough,Scarborough,Scarborough   \nM1L         Scarborough,Scarborough,Scarborough   \nM1M         Scarborough,Scarborough,Scarborough   \nM1N                     Scarborough,Scarborough   \n\n                                            Neighbourhood  \nPostalCode                                                 \nM1B                                         Rouge,Malvern  \nM1C                  Highland Creek,Rouge Hill,Port Union  \nM1E                       Guildwood,Morningside,West Hill  \nM1G                                                Woburn  \nM1H                                             Cedarbrae  \nM1J                                   Scarborough Village  \nM1K             East Birchmount Park,Ionview,Kennedy Park  \nM1L                         Clairlea,Golden Mile,Oakridge  \nM1M         Cliffcrest,Cliffside,Scarborough Village West  \nM1N                            Birch Cliff,Cliffside West  "
                    }, 
                    "output_type": "execute_result"
                }
            ], 
            "source": "df2 = df1.groupby('PostalCode').agg(lambda x: ','.join(x))\n\ndf2.head(10)"
        }, 
        {
            "execution_count": 17, 
            "cell_type": "code", 
            "metadata": {}, 
            "outputs": [
                {
                    "output_type": "stream", 
                    "name": "stdout", 
                    "text": "<class 'pandas.core.frame.DataFrame'>\nIndex: 103 entries, M1B to M9W\nData columns (total 2 columns):\nBorough          103 non-null object\nNeighbourhood    103 non-null object\ndtypes: object(2)\nmemory usage: 2.4+ KB\n"
                }
            ], 
            "source": "df2.info()"
        }, 
        {
            "execution_count": 18, 
            "cell_type": "code", 
            "metadata": {}, 
            "outputs": [
                {
                    "execution_count": 18, 
                    "metadata": {}, 
                    "data": {
                        "text/plain": "(103, 2)"
                    }, 
                    "output_type": "execute_result"
                }
            ], 
            "source": "df2.shape\n"
        }, 
        {
            "source": "### 1.3.6 For Boroughs That Have No Assigned Neighborhoods, Assign The Borough Name to the Neighborhood Section", 
            "cell_type": "markdown", 
            "metadata": {}
        }, 
        {
            "execution_count": 20, 
            "cell_type": "code", 
            "metadata": {}, 
            "outputs": [
                {
                    "execution_count": 20, 
                    "metadata": {}, 
                    "data": {
                        "text/html": "<div>\n<style scoped>\n    .dataframe tbody tr th:only-of-type {\n        vertical-align: middle;\n    }\n\n    .dataframe tbody tr th {\n        vertical-align: top;\n    }\n\n    .dataframe thead th {\n        text-align: right;\n    }\n</style>\n<table border=\"1\" class=\"dataframe\">\n  <thead>\n    <tr style=\"text-align: right;\">\n      <th></th>\n      <th>Borough</th>\n      <th>Neighbourhood</th>\n    </tr>\n    <tr>\n      <th>PostalCode</th>\n      <th></th>\n      <th></th>\n    </tr>\n  </thead>\n  <tbody>\n    <tr>\n      <th>M1B</th>\n      <td>Scarborough,Scarborough</td>\n      <td>Rouge,Malvern</td>\n    </tr>\n    <tr>\n      <th>M1C</th>\n      <td>Scarborough,Scarborough,Scarborough</td>\n      <td>Highland Creek,Rouge Hill,Port Union</td>\n    </tr>\n    <tr>\n      <th>M1E</th>\n      <td>Scarborough,Scarborough,Scarborough</td>\n      <td>Guildwood,Morningside,West Hill</td>\n    </tr>\n    <tr>\n      <th>M1G</th>\n      <td>Scarborough</td>\n      <td>Woburn</td>\n    </tr>\n    <tr>\n      <th>M1H</th>\n      <td>Scarborough</td>\n      <td>Cedarbrae</td>\n    </tr>\n    <tr>\n      <th>M1J</th>\n      <td>Scarborough</td>\n      <td>Scarborough Village</td>\n    </tr>\n    <tr>\n      <th>M1K</th>\n      <td>Scarborough,Scarborough,Scarborough</td>\n      <td>East Birchmount Park,Ionview,Kennedy Park</td>\n    </tr>\n    <tr>\n      <th>M1L</th>\n      <td>Scarborough,Scarborough,Scarborough</td>\n      <td>Clairlea,Golden Mile,Oakridge</td>\n    </tr>\n    <tr>\n      <th>M1M</th>\n      <td>Scarborough,Scarborough,Scarborough</td>\n      <td>Cliffcrest,Cliffside,Scarborough Village West</td>\n    </tr>\n    <tr>\n      <th>M1N</th>\n      <td>Scarborough,Scarborough</td>\n      <td>Birch Cliff,Cliffside West</td>\n    </tr>\n  </tbody>\n</table>\n</div>", 
                        "text/plain": "                                        Borough  \\\nPostalCode                                        \nM1B                     Scarborough,Scarborough   \nM1C         Scarborough,Scarborough,Scarborough   \nM1E         Scarborough,Scarborough,Scarborough   \nM1G                                 Scarborough   \nM1H                                 Scarborough   \nM1J                                 Scarborough   \nM1K         Scarborough,Scarborough,Scarborough   \nM1L         Scarborough,Scarborough,Scarborough   \nM1M         Scarborough,Scarborough,Scarborough   \nM1N                     Scarborough,Scarborough   \n\n                                            Neighbourhood  \nPostalCode                                                 \nM1B                                         Rouge,Malvern  \nM1C                  Highland Creek,Rouge Hill,Port Union  \nM1E                       Guildwood,Morningside,West Hill  \nM1G                                                Woburn  \nM1H                                             Cedarbrae  \nM1J                                   Scarborough Village  \nM1K             East Birchmount Park,Ionview,Kennedy Park  \nM1L                         Clairlea,Golden Mile,Oakridge  \nM1M         Cliffcrest,Cliffside,Scarborough Village West  \nM1N                            Birch Cliff,Cliffside West  "
                    }, 
                    "output_type": "execute_result"
                }
            ], 
            "source": "df2.loc[df2['Neighbourhood']=='Not assigned','Neighbourhood']=df2.loc[df2['Neighbourhood']==\"Not assigned\",'Borough']\ndf2.head(10)"
        }, 
        {
            "execution_count": 27, 
            "cell_type": "code", 
            "metadata": {}, 
            "outputs": [
                {
                    "execution_count": 27, 
                    "metadata": {}, 
                    "data": {
                        "text/html": "<div>\n<style scoped>\n    .dataframe tbody tr th:only-of-type {\n        vertical-align: middle;\n    }\n\n    .dataframe tbody tr th {\n        vertical-align: top;\n    }\n\n    .dataframe thead th {\n        text-align: right;\n    }\n</style>\n<table border=\"1\" class=\"dataframe\">\n  <thead>\n    <tr style=\"text-align: right;\">\n      <th></th>\n      <th>PostalCode</th>\n      <th>Borough</th>\n      <th>Neighbourhood</th>\n    </tr>\n  </thead>\n  <tbody>\n    <tr>\n      <th>0</th>\n      <td>M1B</td>\n      <td>Scarborough,Scarborough</td>\n      <td>Rouge,Malvern</td>\n    </tr>\n    <tr>\n      <th>1</th>\n      <td>M1C</td>\n      <td>Scarborough,Scarborough,Scarborough</td>\n      <td>Highland Creek,Rouge Hill,Port Union</td>\n    </tr>\n    <tr>\n      <th>2</th>\n      <td>M1E</td>\n      <td>Scarborough,Scarborough,Scarborough</td>\n      <td>Guildwood,Morningside,West Hill</td>\n    </tr>\n    <tr>\n      <th>3</th>\n      <td>M1G</td>\n      <td>Scarborough</td>\n      <td>Woburn</td>\n    </tr>\n    <tr>\n      <th>4</th>\n      <td>M1H</td>\n      <td>Scarborough</td>\n      <td>Cedarbrae</td>\n    </tr>\n  </tbody>\n</table>\n</div>", 
                        "text/plain": "  PostalCode                              Borough  \\\n0        M1B              Scarborough,Scarborough   \n1        M1C  Scarborough,Scarborough,Scarborough   \n2        M1E  Scarborough,Scarborough,Scarborough   \n3        M1G                          Scarborough   \n4        M1H                          Scarborough   \n\n                          Neighbourhood  \n0                         Rouge,Malvern  \n1  Highland Creek,Rouge Hill,Port Union  \n2       Guildwood,Morningside,West Hill  \n3                                Woburn  \n4                             Cedarbrae  "
                    }, 
                    "output_type": "execute_result"
                }
            ], 
            "source": "df3 = df2.reset_index()\ndf3.head()"
        }, 
        {
            "source": "### 1.3.7 Remove Repeating Borough Names ", 
            "cell_type": "markdown", 
            "metadata": {}
        }, 
        {
            "execution_count": 40, 
            "cell_type": "code", 
            "metadata": {}, 
            "outputs": [], 
            "source": "df3['Borough']=df3['Borough'].str.replace('nan|[{}\\s]','').str.split(',').apply(set).str.join(',').str.strip(',').str.replace(\",{2,}\",\",\")"
        }, 
        {
            "execution_count": 37, 
            "cell_type": "code", 
            "metadata": {}, 
            "outputs": [
                {
                    "execution_count": 37, 
                    "metadata": {}, 
                    "data": {
                        "text/html": "<div>\n<style scoped>\n    .dataframe tbody tr th:only-of-type {\n        vertical-align: middle;\n    }\n\n    .dataframe tbody tr th {\n        vertical-align: top;\n    }\n\n    .dataframe thead th {\n        text-align: right;\n    }\n</style>\n<table border=\"1\" class=\"dataframe\">\n  <thead>\n    <tr style=\"text-align: right;\">\n      <th></th>\n      <th>PostalCode</th>\n      <th>Borough</th>\n      <th>Neighbourhood</th>\n    </tr>\n  </thead>\n  <tbody>\n    <tr>\n      <th>0</th>\n      <td>M1B</td>\n      <td>Scarborough</td>\n      <td>Rouge,Malvern</td>\n    </tr>\n    <tr>\n      <th>1</th>\n      <td>M1C</td>\n      <td>Scarborough</td>\n      <td>Highland Creek,Rouge Hill,Port Union</td>\n    </tr>\n    <tr>\n      <th>2</th>\n      <td>M1E</td>\n      <td>Scarborough</td>\n      <td>Guildwood,Morningside,West Hill</td>\n    </tr>\n    <tr>\n      <th>3</th>\n      <td>M1G</td>\n      <td>Scarborough</td>\n      <td>Woburn</td>\n    </tr>\n    <tr>\n      <th>4</th>\n      <td>M1H</td>\n      <td>Scarborough</td>\n      <td>Cedarbrae</td>\n    </tr>\n    <tr>\n      <th>5</th>\n      <td>M1J</td>\n      <td>Scarborough</td>\n      <td>Scarborough Village</td>\n    </tr>\n    <tr>\n      <th>6</th>\n      <td>M1K</td>\n      <td>Scarborough</td>\n      <td>East Birchmount Park,Ionview,Kennedy Park</td>\n    </tr>\n    <tr>\n      <th>7</th>\n      <td>M1L</td>\n      <td>Scarborough</td>\n      <td>Clairlea,Golden Mile,Oakridge</td>\n    </tr>\n    <tr>\n      <th>8</th>\n      <td>M1M</td>\n      <td>Scarborough</td>\n      <td>Cliffcrest,Cliffside,Scarborough Village West</td>\n    </tr>\n    <tr>\n      <th>9</th>\n      <td>M1N</td>\n      <td>Scarborough</td>\n      <td>Birch Cliff,Cliffside West</td>\n    </tr>\n  </tbody>\n</table>\n</div>", 
                        "text/plain": "  PostalCode      Borough                                  Neighbourhood\n0        M1B  Scarborough                                  Rouge,Malvern\n1        M1C  Scarborough           Highland Creek,Rouge Hill,Port Union\n2        M1E  Scarborough                Guildwood,Morningside,West Hill\n3        M1G  Scarborough                                         Woburn\n4        M1H  Scarborough                                      Cedarbrae\n5        M1J  Scarborough                            Scarborough Village\n6        M1K  Scarborough      East Birchmount Park,Ionview,Kennedy Park\n7        M1L  Scarborough                  Clairlea,Golden Mile,Oakridge\n8        M1M  Scarborough  Cliffcrest,Cliffside,Scarborough Village West\n9        M1N  Scarborough                     Birch Cliff,Cliffside West"
                    }, 
                    "output_type": "execute_result"
                }
            ], 
            "source": "df3.head(10)"
        }, 
        {
            "execution_count": 38, 
            "cell_type": "code", 
            "metadata": {}, 
            "outputs": [
                {
                    "output_type": "stream", 
                    "name": "stdout", 
                    "text": "<class 'pandas.core.frame.DataFrame'>\nRangeIndex: 103 entries, 0 to 102\nData columns (total 3 columns):\nPostalCode       103 non-null object\nBorough          103 non-null object\nNeighbourhood    103 non-null object\ndtypes: object(3)\nmemory usage: 2.5+ KB\n"
                }
            ], 
            "source": "df3.info()"
        }, 
        {
            "execution_count": 39, 
            "cell_type": "code", 
            "metadata": {}, 
            "outputs": [
                {
                    "execution_count": 39, 
                    "metadata": {}, 
                    "data": {
                        "text/plain": "(103, 3)"
                    }, 
                    "output_type": "execute_result"
                }
            ], 
            "source": "df3.shape"
        }, 
        {
            "source": "### This Section Submitted to GetHub To Cover First Question of Assignment", 
            "cell_type": "markdown", 
            "metadata": {}
        }
    ], 
    "metadata": {
        "kernelspec": {
            "display_name": "Python 3.6", 
            "name": "python3", 
            "language": "python"
        }, 
        "language_info": {
            "mimetype": "text/x-python", 
            "nbconvert_exporter": "python", 
            "version": "3.6.8", 
            "name": "python", 
            "file_extension": ".py", 
            "pygments_lexer": "ipython3", 
            "codemirror_mode": {
                "version": 3, 
                "name": "ipython"
            }
        }
    }, 
    "nbformat": 4
}